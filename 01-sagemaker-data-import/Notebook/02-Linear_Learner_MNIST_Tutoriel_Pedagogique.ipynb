{
 "cells": [
  {
   "cell_type": "markdown",
   "id": "9b326990",
   "metadata": {},
   "source": [
    "# Tutoriel : Classification Binaire avec Linear Learner et Amazon SageMaker 🎓\n",
    "\n",
    "Ce tutoriel va vous guider pas à pas pour :\n",
    "- Comprendre le modèle **Linear Learner** 📈 pour la classification.\n",
    "- Préparer et analyser le jeu de données **MNIST** 🖌️.\n",
    "- Entraîner, déployer et valider un modèle pour détecter si un chiffre manuscrit est un zéro ou non.\n",
    "- Appliquer des méthodes avancées comme le **tuning d'hyperparamètres** pour améliorer les performances du modèle.\n",
    "\n",
    "---"
   ]
  },
  {
   "cell_type": "markdown",
   "id": "e917f1ef",
   "metadata": {},
   "source": [
    "#### 1️⃣ Introduction au Linear Learner 📝\n",
    "\n",
    "Le modèle **Linear Learner** d’Amazon SageMaker est conçu pour résoudre des problèmes de **classification binaire** et de **régression linéaire**. Ce modèle :\n",
    "- Apprend une fonction linéaire pour prédire si un chiffre est un zéro ou un autre chiffre.\n",
    "- Est particulièrement efficace en **parallélisant** plusieurs modèles avec différents hyperparamètres.\n",
    "\n",
    "**Challenge** 🌟: Pourquoi utilise-t-on le **Linear Learner** pour la classification binaire ?\n",
    "\n",
    "**Réponse** : Le **Linear Learner** est rapide et bien adapté aux grandes données avec des classes bien séparables, comme ici où on distingue zéro des autres chiffres."
   ]
  },
  {
   "cell_type": "markdown",
   "id": "6dfd65a7",
   "metadata": {},
   "source": [
    "#### 2️⃣ Pré-requis et Pré-traitement des Données 🛠️\n",
    "\n",
    "Nous allons préparer l’environnement pour le stockage des données et les autorisations d'accès. \n",
    "\n",
    "Amazon SageMaker utilise des rôles IAM pour accéder aux données stockées dans Amazon S3 et pour les services d’entraînement et de déploiement."
   ]
  },
  {
   "cell_type": "code",
   "execution_count": null,
   "id": "d0a5416c",
   "metadata": {},
   "outputs": [],
   "source": [
    "# Configurer les autorisations et les variables d'environnement\n",
    "import sagemaker\n",
    "\n",
    "role = sagemaker.get_execution_role()  # Rôle IAM pour l'accès SageMaker\n",
    "sess = sagemaker.Session()  # Session SageMaker\n",
    "\n",
    "# Spécifier les chemins S3 pour l'entraînement et le modèle\n",
    "bucket = sess.default_bucket()\n",
    "prefix = 'sagemaker/mnist-linear-learner'"
   ]
  },
  {
   "cell_type": "markdown",
   "id": "400b4c24",
   "metadata": {},
   "source": [
    "**Challenge** 🌟: Pourquoi configurons-nous un rôle IAM pour cette session SageMaker ?\n",
    "\n",
    "**Réponse** : Le rôle IAM permet à SageMaker d'accéder aux données stockées dans S3 et d'utiliser les ressources nécessaires pour l’entraînement et le déploiement du modèle."
   ]
  },
  {
   "cell_type": "markdown",
   "id": "e7f44262",
   "metadata": {},
   "source": [
    "#### 3️⃣ Ingestion et Préparation des Données 🖼️\n",
    "\n",
    "Nous utilisons le jeu de données **MNIST** qui contient des images de chiffres manuscrits. Chaque image est une matrice de 28x28 pixels en échelle de gris.\n",
    "\n",
    "Nous allons télécharger et préparer ces données pour entraîner notre modèle de classification binaire."
   ]
  },
  {
   "cell_type": "code",
   "execution_count": null,
   "id": "46daccff",
   "metadata": {},
   "outputs": [],
   "source": [
    "# Téléchargement et traitement des données MNIST\n",
    "from sagemaker.amazon.amazon_estimator import RecordSet\n",
    "import numpy as np\n",
    "\n",
    "# Simuler les données (Exemple de code simplifié pour les explications)\n",
    "data = np.random.randint(0, 255, (1000, 784))\n",
    "labels = np.random.randint(0, 2, 1000)\n",
    "record_set = RecordSet(data, labels)"
   ]
  },
  {
   "cell_type": "markdown",
   "id": "f6e54188",
   "metadata": {},
   "source": [
    "**Challenge** 🌟: Pourquoi transformons-nous les images en un format compatible avec SageMaker ?\n",
    "\n",
    "**Réponse** : Le format requis par SageMaker est optimisé pour un traitement rapide lors de l'entraînement, et permet une compatibilité directe avec les algorithmes intégrés comme Linear Learner."
   ]
  },
  {
   "cell_type": "markdown",
   "id": "e884adbc",
   "metadata": {},
   "source": [
    "#### 4️⃣ Entraînement du Modèle Linear Learner 🧠\n",
    "\n",
    "Nous allons maintenant configurer et entraîner un modèle de **Linear Learner** sur les données préparées.\n",
    "\n",
    "Le Linear Learner peut effectuer une **classification binaire**, ce qui est parfait pour notre objectif."
   ]
  },
  {
   "cell_type": "code",
   "execution_count": null,
   "id": "86d4c4ba",
   "metadata": {},
   "outputs": [],
   "source": [
    "# Entraîner le modèle Linear Learner avec SageMaker\n",
    "from sagemaker.amazon.linear_learner import LinearLearner\n",
    "\n",
    "linear = LinearLearner(role=role, instance_count=1, instance_type='ml.m4.xlarge', predictor_type='binary_classifier')\n",
    "\n",
    "# Entraîner le modèle\n",
    "linear.fit(record_set)"
   ]
  },
  {
   "cell_type": "markdown",
   "id": "857402e9",
   "metadata": {},
   "source": [
    "**Challenge** 🌟: Pourquoi précisons-nous `predictor_type='binary_classifier'` lors de la création du modèle ?\n",
    "\n",
    "**Réponse** : `predictor_type='binary_classifier'` indique que le modèle est entraîné pour une classification binaire, adaptée à notre objectif de prédire si une image représente un zéro ou un autre chiffre."
   ]
  },
  {
   "cell_type": "markdown",
   "id": "4940eb04",
   "metadata": {},
   "source": [
    "#### 5️⃣ Déploiement et Validation du Modèle 🚀\n",
    "\n",
    "Une fois l'entraînement terminé, nous déployons le modèle pour faire des prédictions sur de nouvelles données."
   ]
  },
  {
   "cell_type": "code",
   "execution_count": null,
   "id": "046421dd",
   "metadata": {},
   "outputs": [],
   "source": [
    "# Déploiement du modèle sur un point de terminaison SageMaker\n",
    "predictor = linear.deploy(initial_instance_count=1, instance_type='ml.m4.xlarge')\n",
    "\n",
    "# Exemple de prédiction avec des données de test\n",
    "result = predictor.predict(data[:5])  # Prédiction sur un échantillon\n",
    "print(result)"
   ]
  },
  {
   "cell_type": "markdown",
   "id": "8b36b1d4",
   "metadata": {},
   "source": [
    "**Challenge** 🌟: Que signifie `initial_instance_count=1` dans le déploiement du modèle ?\n",
    "\n",
    "**Réponse** : `initial_instance_count=1` signifie que le modèle sera déployé sur une seule instance, suffisant pour un test initial ou des charges de travail légères."
   ]
  },
  {
   "cell_type": "markdown",
   "id": "392ebd2c",
   "metadata": {},
   "source": [
    "#### 🚀 Conclusion 🎉\n",
    "\n",
    "Félicitations ! 🎉 Vous avez appris à :\n",
    "- Configurer un environnement Amazon SageMaker\n",
    "- Préparer et analyser des données pour la classification\n",
    "- Entraîner, déployer et valider un modèle de classification binaire avec **Linear Learner**.\n",
    "\n",
    "**Challenge final** 🌟: Comment feriez-vous pour améliorer les performances de ce modèle ?\n",
    "\n",
    "**Réponse** : Pour améliorer les performances, nous pourrions explorer le tuning d’hyperparamètres ou essayer d’autres architectures de modèles plus complexes pour comparer les résultats.\n",
    "\n",
    "Merci d'avoir suivi ce tutoriel ! 😊"
   ]
  }
 ],
 "metadata": {},
 "nbformat": 4,
 "nbformat_minor": 5
}
