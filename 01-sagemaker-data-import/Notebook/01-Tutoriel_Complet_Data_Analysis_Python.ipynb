{
 "cells": [
  {
   "cell_type": "markdown",
   "id": "b24b6e9c",
   "metadata": {},
   "source": [
    "# Tutoriel : Analyse et Préparation des Données avec Python 🐍💻\n",
    "\n",
    "Bienvenue dans ce tutoriel complet ! 📚 Ici, nous allons plonger dans un notebook pour explorer des concepts d'importation, d'exploration et de manipulation de données avec Python et Pandas. Ce guide est conçu pour des débutants 👶, avec des explications étape par étape. Suivez-le attentivement pour apprendre, comprendre et répéter facilement toutes les manipulations de données fondamentales !"
   ]
  },
  {
   "cell_type": "markdown",
   "id": "f5814572",
   "metadata": {},
   "source": [
    "#### 1️⃣ Importer les Bibliothèques 📥"
   ]
  },
  {
   "cell_type": "code",
   "execution_count": null,
   "id": "d353c261",
   "metadata": {},
   "outputs": [],
   "source": [
    "import warnings, requests, zipfile, io\n",
    "import pandas as pd\n",
    "from scipy.io import arff\n",
    "\n",
    "# Pour ignorer les avertissements\n",
    "warnings.simplefilter('ignore')"
   ]
  },
  {
   "cell_type": "markdown",
   "id": "94d560ce",
   "metadata": {},
   "source": [
    "**Challenge** 🌟: Pourquoi utilisons-nous la bibliothèque `warnings` dans ce code ?\n",
    "\n",
    "**Réponse** : Nous utilisons `warnings` pour ignorer les messages d’avertissement qui peuvent apparaître lors de l'exécution du code, rendant la sortie plus propre et facile à lire."
   ]
  },
  {
   "cell_type": "markdown",
   "id": "886c6b2c",
   "metadata": {},
   "source": [
    "#### 2️⃣ Téléchargement des Données 💾"
   ]
  },
  {
   "cell_type": "code",
   "execution_count": null,
   "id": "143b5ba2",
   "metadata": {},
   "outputs": [],
   "source": [
    "f_zip = 'http://archive.ics.uci.edu/ml/machine-learning-databases/00212/vertebral_column_data.zip'\n",
    "r = requests.get(f_zip, stream=True)\n",
    "Vertebral_zip = zipfile.ZipFile(io.BytesIO(r.content))\n",
    "Vertebral_zip.extractall()"
   ]
  },
  {
   "cell_type": "markdown",
   "id": "86a2b4a1",
   "metadata": {},
   "source": [
    "**Challenge** 🌟: Quelle est l'utilité de `io.BytesIO(r.content)` dans ce code ?\n",
    "\n",
    "**Réponse** : `io.BytesIO(r.content)` transforme le contenu téléchargé en un format binaire pour que `ZipFile` puisse l'ouvrir directement, sans qu'on ait besoin de le sauvegarder en tant que fichier temporaire."
   ]
  },
  {
   "cell_type": "markdown",
   "id": "d4c4884b",
   "metadata": {},
   "source": [
    "#### 3️⃣ Charger les Données et les Visualiser 👀"
   ]
  },
  {
   "cell_type": "code",
   "execution_count": null,
   "id": "3b4bae8e",
   "metadata": {},
   "outputs": [],
   "source": [
    "data = arff.loadarff('column_2C_weka.arff')\n",
    "df = pd.DataFrame(data[0])\n",
    "df.head()"
   ]
  },
  {
   "cell_type": "markdown",
   "id": "3cb72768",
   "metadata": {},
   "source": [
    "**Challenge** 🌟: Pourquoi utilisons-nous `pd.DataFrame(data[0])` au lieu de `data` directement ?\n",
    "\n",
    "**Réponse** : `data` est un format spécifique au module `arff`, qui ne peut pas être manipulé facilement. En utilisant `pd.DataFrame(data[0])`, nous convertissons `data` en un DataFrame Pandas, plus simple à manipuler pour l'analyse."
   ]
  },
  {
   "cell_type": "markdown",
   "id": "3095d2a4",
   "metadata": {},
   "source": [
    "#### 4️⃣ Explorer les Données 🔍"
   ]
  },
  {
   "cell_type": "code",
   "execution_count": null,
   "id": "ca495bf9",
   "metadata": {},
   "outputs": [],
   "source": [
    "df.info()\n",
    "df.describe()"
   ]
  },
  {
   "cell_type": "markdown",
   "id": "d385c71c",
   "metadata": {},
   "source": [
    "**Challenge** 🌟: Quelles informations obtenons-nous de la commande `df.describe()` ?\n",
    "\n",
    "**Réponse** : `df.describe()` donne des statistiques descriptives (comme la moyenne, le minimum, et le maximum) pour chaque colonne numérique, ce qui nous aide à comprendre la distribution de ces colonnes."
   ]
  },
  {
   "cell_type": "markdown",
   "id": "ba0783cf",
   "metadata": {},
   "source": [
    "#### 5️⃣ Nettoyage et Préparation des Données 🧹"
   ]
  },
  {
   "cell_type": "code",
   "execution_count": null,
   "id": "84c1f9f5",
   "metadata": {},
   "outputs": [],
   "source": [
    "df['class'] = df['class'].str.decode('utf-8')  # Décoder les classes en texte lisible\n",
    "df.dropna(inplace=True)  # Supprime les lignes avec des valeurs manquantes"
   ]
  },
  {
   "cell_type": "markdown",
   "id": "cff18de7",
   "metadata": {},
   "source": [
    "**Challenge** 🌟: Pourquoi devons-nous utiliser `str.decode('utf-8')` pour la colonne `class` ?\n",
    "\n",
    "**Réponse** : La colonne `class` contient des valeurs encodées en binaire (comme `b'Abnormal'`). En utilisant `str.decode('utf-8')`, nous convertissons ces valeurs en chaînes de caractères lisibles."
   ]
  },
  {
   "cell_type": "markdown",
   "id": "670a07fa",
   "metadata": {},
   "source": [
    "#### 6️⃣ Analyse Exploratoire des Données (EDA) 📊"
   ]
  },
  {
   "cell_type": "code",
   "execution_count": null,
   "id": "500b9b9e",
   "metadata": {},
   "outputs": [],
   "source": [
    "import seaborn as sns\n",
    "import matplotlib.pyplot as plt\n",
    "\n",
    "# Afficher la distribution de chaque colonne\n",
    "sns.pairplot(df, hue='class')\n",
    "plt.show()"
   ]
  },
  {
   "cell_type": "markdown",
   "id": "f7fa25af",
   "metadata": {},
   "source": [
    "**Challenge** 🌟: À quoi sert `hue='class'` dans le `pairplot` ?\n",
    "\n",
    "**Réponse** : Le paramètre `hue='class'` permet de colorer les points selon leur classe (`Normal` ou `Abnormal`), facilitant la visualisation des différences entre les classes dans le graphique."
   ]
  },
  {
   "cell_type": "markdown",
   "id": "f3f4efe7",
   "metadata": {},
   "source": [
    "#### 7️⃣ Modélisation 🧠"
   ]
  },
  {
   "cell_type": "code",
   "execution_count": null,
   "id": "59c42806",
   "metadata": {},
   "outputs": [],
   "source": [
    "from sklearn.model_selection import train_test_split\n",
    "from sklearn.ensemble import RandomForestClassifier\n",
    "from sklearn.metrics import classification_report\n",
    "\n",
    "# Diviser les données en train et test\n",
    "X = df.drop('class', axis=1)\n",
    "y = df['class']\n",
    "X_train, X_test, y_train, y_test = train_test_split(X, y, test_size=0.2, random_state=42)\n",
    "\n",
    "# Entraîner un modèle\n",
    "model = RandomForestClassifier()\n",
    "model.fit(X_train, y_train)\n",
    "\n",
    "# Prédire et évaluer\n",
    "y_pred = model.predict(X_test)\n",
    "print(classification_report(y_test, y_pred))"
   ]
  },
  {
   "cell_type": "markdown",
   "id": "fc0a431e",
   "metadata": {},
   "source": [
    "**Challenge** 🌟: Que signifie `test_size=0.2` dans `train_test_split` ?\n",
    "\n",
    "**Réponse** : `test_size=0.2` indique que 20 % des données seront utilisées pour l’ensemble de test, et 80 % pour l’entraînement, assurant une bonne répartition pour évaluer le modèle."
   ]
  },
  {
   "cell_type": "markdown",
   "id": "80412174",
   "metadata": {},
   "source": [
    "#### 8️⃣ Sauvegarder et Déployer le Modèle 🚀"
   ]
  },
  {
   "cell_type": "code",
   "execution_count": null,
   "id": "f23d0bdb",
   "metadata": {},
   "outputs": [],
   "source": [
    "import joblib\n",
    "\n",
    "# Sauvegarder le modèle\n",
    "joblib.dump(model, 'vertebral_model.pkl')\n",
    "\n",
    "# Charger le modèle pour l'utiliser\n",
    "loaded_model = joblib.load('vertebral_model.pkl')"
   ]
  },
  {
   "cell_type": "markdown",
   "id": "51ecd88a",
   "metadata": {},
   "source": [
    "**Challenge** 🌟: Pourquoi est-il important de sauvegarder un modèle après l'entraînement ?\n",
    "\n",
    "**Réponse** : Sauvegarder le modèle permet de l’utiliser ultérieurement sans avoir à le réentraîner, ce qui économise du temps et des ressources, notamment pour le déploiement dans des applications."
   ]
  },
  {
   "cell_type": "markdown",
   "id": "5b078399",
   "metadata": {},
   "source": [
    "#### 🚀 Conclusion 🎉\n",
    "\n",
    "Bravo d’avoir suivi ce tutoriel ! 👏 Vous avez appris à :\n",
    "- Importer et préparer des données 🗂️\n",
    "- Explorer des données 📊\n",
    "- Entraîner et évaluer un modèle 🧠\n",
    "- Sauvegarder votre travail pour une utilisation ultérieure 💾\n",
    "\n",
    "**Challenge final** 🌟: Comment utiliseriez-vous ce modèle pour prédire de nouvelles données ?\n",
    "\n",
    "**Réponse** : Pour prédire de nouvelles données, vous chargeriez le modèle sauvegardé avec `joblib.load`, puis utiliseriez `loaded_model.predict(new_data)` où `new_data` est un DataFrame contenant les nouvelles observations à prédire. \n",
    "\n",
    "Bon apprentissage et continuez à pratiquer pour maîtriser ces concepts ! 😊"
   ]
  }
 ],
 "metadata": {},
 "nbformat": 4,
 "nbformat_minor": 5
}
